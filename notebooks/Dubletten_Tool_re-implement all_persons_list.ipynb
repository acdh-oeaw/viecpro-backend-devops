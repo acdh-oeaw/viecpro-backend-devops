{
 "cells": [
  {
   "cell_type": "code",
   "execution_count": 1,
   "id": "9dc5bcff",
   "metadata": {},
   "outputs": [],
   "source": [
    "import os\n",
    "os.environ[\"DJANGO_ALLOW_ASYNC_UNSAFE\"] = \"True\""
   ]
  },
  {
   "cell_type": "code",
   "execution_count": 2,
   "id": "bffec607",
   "metadata": {},
   "outputs": [],
   "source": [
    "g = Group.objects.first()"
   ]
  },
  {
   "cell_type": "code",
   "execution_count": 4,
   "id": "267d9f29",
   "metadata": {},
   "outputs": [
    {
     "name": "stdout",
     "output_type": "stream",
     "text": [
      "Abel, Johann\n",
      "Abel, Johann\n",
      "Abel, Johann\n",
      "Abele, Christoph\n"
     ]
    }
   ],
   "source": [
    "for el in g.members.all():\n",
    "    print(el.person)"
   ]
  },
  {
   "cell_type": "code",
   "execution_count": 6,
   "id": "d2f7de85",
   "metadata": {},
   "outputs": [],
   "source": [
    "group = g\n",
    "all_rels = []\n",
    "for m in group.members.all(): \n",
    "    m_per = m.person\n",
    "    all_rels += m.person.get_related_relation_instances()"
   ]
  },
  {
   "cell_type": "code",
   "execution_count": 7,
   "id": "6d97098a",
   "metadata": {},
   "outputs": [
    {
     "data": {
      "text/plain": [
       "[<PersonInstitution: Abel, Johann (Trabanten Rottmeister) OMeA (L1 (Ks.))>,\n",
       " <PersonInstitution: Abel, Johann (Trabanten Rottmeister) OMeA (LW)>,\n",
       " <PersonInstitution: Abel, Johann (Trabant) OMeA (L1 (Ks.))>,\n",
       " <PersonPerson: Abel, Johann (war Vater von [T]) Abel, Elisabeth>,\n",
       " <PersonPerson: Abel {vorfinal}, Johann (data merged from) Abel, Johann>,\n",
       " <PersonInstitution: Abel, Johann (Trabant) OMeA (L1 (Ks.))>,\n",
       " <PersonInstitution: Abel, Johann (Trabanten Rottmeister) OMeA (L1 (Ks.))>,\n",
       " <PersonInstitution: Abel, Johann (Trabanten Rottmeister) OMeA (LW)>,\n",
       " <PersonPerson: Abel {vorfinal}, Johann (data merged from) Abel, Johann>,\n",
       " <PersonInstitution: Abel, Johann (Trabanten Rottmeister) OMeA (LW)>,\n",
       " <PersonPerson: Abel {vorfinal}, Johann (data merged from) Abel, Johann>,\n",
       " <PersonInstitution: Abele, Christoph (Geh. Rat) Geh. Rat (L1 (Ks.))>,\n",
       " <PersonInstitution: Abele, Christoph (Hofkammerpräsident) HK (L1 (Ks.))>,\n",
       " <PersonPerson: Abele {vorfinal}, Christoph (data merged from) Abele, Christoph>]"
      ]
     },
     "execution_count": 7,
     "metadata": {},
     "output_type": "execute_result"
    }
   ],
   "source": [
    "all_rels"
   ]
  },
  {
   "cell_type": "code",
   "execution_count": 2,
   "id": "7197bb60",
   "metadata": {},
   "outputs": [],
   "source": [
    "for p in Person.objects.all(): \n",
    "    pass"
   ]
  },
  {
   "cell_type": "code",
   "execution_count": 3,
   "id": "27609954",
   "metadata": {},
   "outputs": [
    {
     "data": {
      "text/plain": [
       "41275"
      ]
     },
     "execution_count": 3,
     "metadata": {},
     "output_type": "execute_result"
    }
   ],
   "source": [
    "Person.objects.count()"
   ]
  },
  {
   "cell_type": "code",
   "execution_count": null,
   "id": "28fa370b",
   "metadata": {},
   "outputs": [],
   "source": []
  }
 ],
 "metadata": {
  "kernelspec": {
   "display_name": "Django Shell-Plus",
   "language": "python",
   "name": "django_extensions"
  },
  "language_info": {
   "codemirror_mode": {
    "name": "ipython",
    "version": 3
   },
   "file_extension": ".py",
   "mimetype": "text/x-python",
   "name": "python",
   "nbconvert_exporter": "python",
   "pygments_lexer": "ipython3",
   "version": "3.11.5"
  }
 },
 "nbformat": 4,
 "nbformat_minor": 5
}
