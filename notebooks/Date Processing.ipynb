{
 "cells": [
  {
   "cell_type": "code",
   "execution_count": 2,
   "id": "b403fc84",
   "metadata": {},
   "outputs": [],
   "source": [
    "import os\n",
    "os.environ[\"DJANGO_ALLOW_ASYNC_UNSAFE\"] = \"True\""
   ]
  },
  {
   "cell_type": "code",
   "execution_count": 40,
   "id": "cfbd0f04",
   "metadata": {},
   "outputs": [
    {
     "name": "stdout",
     "output_type": "stream",
     "text": [
      "date_time => 2021-07-26 21:20:00\n"
     ]
    }
   ],
   "source": [
    "import datetime\n",
    "import time\n",
    " def make_timestamp(date): \n",
    "    return int(time.mktime(date.timetuple()))\n",
    "# assigned regular string date\n",
    "date_time = datetime.datetime(2021, 7, 26, 21, 20)\n",
    " \n",
    "# print regular python date&time\n",
    "print(\"date_time =>\",date_time)\n",
    " \n",
    "def resolve_timestamp(date): \n",
    "    pass\n"
   ]
  },
  {
   "cell_type": "code",
   "execution_count": 41,
   "id": "31129667",
   "metadata": {},
   "outputs": [],
   "source": [
    "test = PersonInstitution.objects.first()"
   ]
  },
  {
   "cell_type": "code",
   "execution_count": 51,
   "id": "4738168a",
   "metadata": {},
   "outputs": [
    {
     "data": {
      "text/plain": [
       "datetime.date(1678, 6, 30)"
      ]
     },
     "execution_count": 51,
     "metadata": {},
     "output_type": "execute_result"
    }
   ],
   "source": [
    "test.start_date"
   ]
  },
  {
   "cell_type": "code",
   "execution_count": 42,
   "id": "d8f38209",
   "metadata": {},
   "outputs": [],
   "source": [
    "first = make_timestamp(test.start_date)"
   ]
  },
  {
   "cell_type": "code",
   "execution_count": 43,
   "id": "8518eae2",
   "metadata": {},
   "outputs": [],
   "source": [
    "date_time = datetime.datetime(80, 7, 26, 21, 20)\n"
   ]
  },
  {
   "cell_type": "code",
   "execution_count": 44,
   "id": "11e07557",
   "metadata": {},
   "outputs": [
    {
     "data": {
      "text/plain": [
       "datetime.datetime(80, 7, 26, 21, 20)"
      ]
     },
     "execution_count": 44,
     "metadata": {},
     "output_type": "execute_result"
    }
   ],
   "source": [
    "date_time"
   ]
  },
  {
   "cell_type": "code",
   "execution_count": 45,
   "id": "1620944d",
   "metadata": {},
   "outputs": [],
   "source": [
    "second = make_timestamp(date_time)\n",
    "third = make_timestamp(datetime.datetime(2020, 7, 29))"
   ]
  },
  {
   "cell_type": "code",
   "execution_count": 46,
   "id": "5442cf45",
   "metadata": {},
   "outputs": [],
   "source": [
    "res = [second, first, third]"
   ]
  },
  {
   "cell_type": "code",
   "execution_count": 47,
   "id": "96107489",
   "metadata": {},
   "outputs": [
    {
     "data": {
      "text/plain": [
       "[-59624649600, -9199008000, 1595980800]"
      ]
     },
     "execution_count": 47,
     "metadata": {},
     "output_type": "execute_result"
    }
   ],
   "source": [
    "res"
   ]
  },
  {
   "cell_type": "code",
   "execution_count": 48,
   "id": "b1f6c71f",
   "metadata": {},
   "outputs": [
    {
     "data": {
      "text/plain": [
       "[1595980800, -9199008000, -59624649600]"
      ]
     },
     "execution_count": 48,
     "metadata": {},
     "output_type": "execute_result"
    }
   ],
   "source": [
    "sorted(res, reverse=True)"
   ]
  },
  {
   "cell_type": "code",
   "execution_count": 49,
   "id": "e9444b69",
   "metadata": {},
   "outputs": [
    {
     "data": {
      "text/plain": [
       "int"
      ]
     },
     "execution_count": 49,
     "metadata": {},
     "output_type": "execute_result"
    }
   ],
   "source": [
    "type(first)"
   ]
  },
  {
   "cell_type": "code",
   "execution_count": 50,
   "id": "7410c53e",
   "metadata": {},
   "outputs": [
    {
     "data": {
      "text/plain": [
       "int"
      ]
     },
     "execution_count": 50,
     "metadata": {},
     "output_type": "execute_result"
    }
   ],
   "source": [
    "int"
   ]
  },
  {
   "cell_type": "code",
   "execution_count": null,
   "id": "15131204",
   "metadata": {},
   "outputs": [],
   "source": []
  },
  {
   "cell_type": "code",
   "execution_count": null,
   "id": "49572bb7",
   "metadata": {},
   "outputs": [],
   "source": []
  }
 ],
 "metadata": {
  "kernelspec": {
   "display_name": "Django Shell-Plus",
   "language": "python",
   "name": "django_extensions"
  },
  "language_info": {
   "codemirror_mode": {
    "name": "ipython",
    "version": 3
   },
   "file_extension": ".py",
   "mimetype": "text/x-python",
   "name": "python",
   "nbconvert_exporter": "python",
   "pygments_lexer": "ipython3",
   "version": "3.11.5"
  }
 },
 "nbformat": 4,
 "nbformat_minor": 5
}
