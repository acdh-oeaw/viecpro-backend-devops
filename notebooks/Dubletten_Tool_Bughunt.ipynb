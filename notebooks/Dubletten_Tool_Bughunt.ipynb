{
 "cells": [
  {
   "cell_type": "code",
   "execution_count": 1,
   "id": "3ab23a48",
   "metadata": {},
   "outputs": [],
   "source": [
    "import os\n",
    "os.environ[\"DJANGO_ALLOW_ASYNC_UNSAFE\"] = \"True\""
   ]
  },
  {
   "cell_type": "code",
   "execution_count": 10,
   "id": "e0772d57",
   "metadata": {},
   "outputs": [],
   "source": [
    "logs = DublettenLOG.objects.all()"
   ]
  },
  {
   "cell_type": "code",
   "execution_count": 11,
   "id": "04bebe46",
   "metadata": {},
   "outputs": [
    {
     "data": {
      "text/plain": [
       "25769"
      ]
     },
     "execution_count": 11,
     "metadata": {},
     "output_type": "execute_result"
    }
   ],
   "source": [
    "logs.count()"
   ]
  },
  {
   "cell_type": "code",
   "execution_count": 17,
   "id": "429308bd",
   "metadata": {},
   "outputs": [
    {
     "data": {
      "text/plain": [
       "<PersonProxyInstance 20883 - proxies: <Person: Traun, Otto Ehrenreich  (182182)>>"
      ]
     },
     "execution_count": 17,
     "metadata": {},
     "output_type": "execute_result"
    }
   ],
   "source": [
    "PersonProxy.objects.get(person_id=182182)"
   ]
  },
  {
   "cell_type": "code",
   "execution_count": 19,
   "id": "ff91a0e7",
   "metadata": {},
   "outputs": [
    {
     "data": {
      "text/plain": [
       "<QuerySet [<Group: Abele, Christoph (Single + Group merge TEST)   (6760)>, <Group: Abensber-Traun (Single Merge Test) (6758)>]>"
      ]
     },
     "execution_count": 19,
     "metadata": {},
     "output_type": "execute_result"
    }
   ],
   "source": [
    "Group.objects.filter(vorfin__isnull=True)"
   ]
  },
  {
   "cell_type": "code",
   "execution_count": 7,
   "id": "72158806",
   "metadata": {},
   "outputs": [
    {
     "data": {
      "text/plain": [
       "<QuerySet [<Group: Abele, Christoph (Single + Group merge TEST)   (6760)>, <Group: Abensber-Traun (Single Merge Test) (6758)>, <Group: bughunt single group test 2 (6765)>, <Group: bughunt single group test 3 (6766)>, <Group: bughunt single single test 2 (6761)>, <Group: bughunt single single test 3 (6762)>, <Group: bughunt single single test 4 + include another single  (6764)>, <Group: bughunt single single test 5 (6770)>]>"
      ]
     },
     "execution_count": 7,
     "metadata": {},
     "output_type": "execute_result"
    }
   ],
   "source": [
    "Group.objects.filter(name__icontains=\"single\")"
   ]
  },
  {
   "cell_type": "code",
   "execution_count": 6,
   "id": "2136a2e7",
   "metadata": {},
   "outputs": [
    {
     "ename": "DoesNotExist",
     "evalue": "Group matching query does not exist.",
     "output_type": "error",
     "traceback": [
      "\u001b[0;31m---------------------------------------------------------------------------\u001b[0m",
      "\u001b[0;31mDoesNotExist\u001b[0m                              Traceback (most recent call last)",
      "Cell \u001b[0;32mIn[6], line 1\u001b[0m\n\u001b[0;32m----> 1\u001b[0m \u001b[43mGroup\u001b[49m\u001b[38;5;241;43m.\u001b[39;49m\u001b[43mobjects\u001b[49m\u001b[38;5;241;43m.\u001b[39;49m\u001b[43mget\u001b[49m\u001b[43m(\u001b[49m\u001b[38;5;28;43mid\u001b[39;49m\u001b[38;5;241;43m=\u001b[39;49m\u001b[38;5;241;43m2\u001b[39;49m\u001b[43m)\u001b[49m\n",
      "File \u001b[0;32m~/.local/lib/python3.11/site-packages/django/db/models/manager.py:85\u001b[0m, in \u001b[0;36mBaseManager._get_queryset_methods.<locals>.create_method.<locals>.manager_method\u001b[0;34m(self, *args, **kwargs)\u001b[0m\n\u001b[1;32m     84\u001b[0m \u001b[38;5;28;01mdef\u001b[39;00m \u001b[38;5;21mmanager_method\u001b[39m(\u001b[38;5;28mself\u001b[39m, \u001b[38;5;241m*\u001b[39margs, \u001b[38;5;241m*\u001b[39m\u001b[38;5;241m*\u001b[39mkwargs):\n\u001b[0;32m---> 85\u001b[0m     \u001b[38;5;28;01mreturn\u001b[39;00m \u001b[38;5;28;43mgetattr\u001b[39;49m\u001b[43m(\u001b[49m\u001b[38;5;28;43mself\u001b[39;49m\u001b[38;5;241;43m.\u001b[39;49m\u001b[43mget_queryset\u001b[49m\u001b[43m(\u001b[49m\u001b[43m)\u001b[49m\u001b[43m,\u001b[49m\u001b[43m \u001b[49m\u001b[43mname\u001b[49m\u001b[43m)\u001b[49m\u001b[43m(\u001b[49m\u001b[38;5;241;43m*\u001b[39;49m\u001b[43margs\u001b[49m\u001b[43m,\u001b[49m\u001b[43m \u001b[49m\u001b[38;5;241;43m*\u001b[39;49m\u001b[38;5;241;43m*\u001b[39;49m\u001b[43mkwargs\u001b[49m\u001b[43m)\u001b[49m\n",
      "File \u001b[0;32m~/.local/lib/python3.11/site-packages/django/db/models/query.py:435\u001b[0m, in \u001b[0;36mQuerySet.get\u001b[0;34m(self, *args, **kwargs)\u001b[0m\n\u001b[1;32m    433\u001b[0m     \u001b[38;5;28;01mreturn\u001b[39;00m clone\u001b[38;5;241m.\u001b[39m_result_cache[\u001b[38;5;241m0\u001b[39m]\n\u001b[1;32m    434\u001b[0m \u001b[38;5;28;01mif\u001b[39;00m \u001b[38;5;129;01mnot\u001b[39;00m num:\n\u001b[0;32m--> 435\u001b[0m     \u001b[38;5;28;01mraise\u001b[39;00m \u001b[38;5;28mself\u001b[39m\u001b[38;5;241m.\u001b[39mmodel\u001b[38;5;241m.\u001b[39mDoesNotExist(\n\u001b[1;32m    436\u001b[0m         \u001b[38;5;124m\"\u001b[39m\u001b[38;5;132;01m%s\u001b[39;00m\u001b[38;5;124m matching query does not exist.\u001b[39m\u001b[38;5;124m\"\u001b[39m \u001b[38;5;241m%\u001b[39m\n\u001b[1;32m    437\u001b[0m         \u001b[38;5;28mself\u001b[39m\u001b[38;5;241m.\u001b[39mmodel\u001b[38;5;241m.\u001b[39m_meta\u001b[38;5;241m.\u001b[39mobject_name\n\u001b[1;32m    438\u001b[0m     )\n\u001b[1;32m    439\u001b[0m \u001b[38;5;28;01mraise\u001b[39;00m \u001b[38;5;28mself\u001b[39m\u001b[38;5;241m.\u001b[39mmodel\u001b[38;5;241m.\u001b[39mMultipleObjectsReturned(\n\u001b[1;32m    440\u001b[0m     \u001b[38;5;124m'\u001b[39m\u001b[38;5;124mget() returned more than one \u001b[39m\u001b[38;5;132;01m%s\u001b[39;00m\u001b[38;5;124m -- it returned \u001b[39m\u001b[38;5;132;01m%s\u001b[39;00m\u001b[38;5;124m!\u001b[39m\u001b[38;5;124m'\u001b[39m \u001b[38;5;241m%\u001b[39m (\n\u001b[1;32m    441\u001b[0m         \u001b[38;5;28mself\u001b[39m\u001b[38;5;241m.\u001b[39mmodel\u001b[38;5;241m.\u001b[39m_meta\u001b[38;5;241m.\u001b[39mobject_name,\n\u001b[1;32m    442\u001b[0m         num \u001b[38;5;28;01mif\u001b[39;00m \u001b[38;5;129;01mnot\u001b[39;00m limit \u001b[38;5;129;01mor\u001b[39;00m num \u001b[38;5;241m<\u001b[39m limit \u001b[38;5;28;01melse\u001b[39;00m \u001b[38;5;124m'\u001b[39m\u001b[38;5;124mmore than \u001b[39m\u001b[38;5;132;01m%s\u001b[39;00m\u001b[38;5;124m'\u001b[39m \u001b[38;5;241m%\u001b[39m (limit \u001b[38;5;241m-\u001b[39m \u001b[38;5;241m1\u001b[39m),\n\u001b[1;32m    443\u001b[0m     )\n\u001b[1;32m    444\u001b[0m )\n",
      "\u001b[0;31mDoesNotExist\u001b[0m: Group matching query does not exist."
     ]
    }
   ],
   "source": []
  },
  {
   "cell_type": "code",
   "execution_count": 8,
   "id": "11d4892f",
   "metadata": {},
   "outputs": [],
   "source": [
    "test = Person.objects.first()"
   ]
  },
  {
   "cell_type": "code",
   "execution_count": 12,
   "id": "170b1db5",
   "metadata": {},
   "outputs": [
    {
     "data": {
      "text/plain": [
       "(<django.db.models.fields.AutoField: id>,\n",
       " <django.db.models.fields.URLField: bibs_url>,\n",
       " <django.db.models.fields.PositiveIntegerField: pages_start>,\n",
       " <django.db.models.fields.PositiveIntegerField: pages_end>,\n",
       " <django.db.models.fields.TextField: bibtex>,\n",
       " <django.db.models.fields.related.ForeignKey: content_type>,\n",
       " <django.db.models.fields.PositiveIntegerField: object_id>,\n",
       " <django.db.models.fields.CharField: attribute>,\n",
       " <django.db.models.fields.DateTimeField: last_update>,\n",
       " <django.db.models.fields.CharField: folio>,\n",
       " <django.db.models.fields.CharField: notes>)"
      ]
     },
     "execution_count": 12,
     "metadata": {},
     "output_type": "execute_result"
    }
   ],
   "source": [
    "Reference._meta.fields"
   ]
  },
  {
   "cell_type": "code",
   "execution_count": 13,
   "id": "6963d583",
   "metadata": {},
   "outputs": [],
   "source": [
    "person_content_type = ContentType.objects.get(app_label=\"apis_entities\", model=\"person\")\n"
   ]
  },
  {
   "cell_type": "code",
   "execution_count": 14,
   "id": "6a3c6bbf",
   "metadata": {},
   "outputs": [
    {
     "data": {
      "text/plain": [
       "<ContentType: apis_entities | person>"
      ]
     },
     "execution_count": 14,
     "metadata": {},
     "output_type": "execute_result"
    }
   ],
   "source": [
    "person_content_type"
   ]
  },
  {
   "cell_type": "code",
   "execution_count": 15,
   "id": "e5ee9b60",
   "metadata": {},
   "outputs": [],
   "source": [
    "g = Group.objects.first()"
   ]
  },
  {
   "cell_type": "code",
   "execution_count": 28,
   "id": "48159b66",
   "metadata": {},
   "outputs": [
    {
     "name": "stdout",
     "output_type": "stream",
     "text": [
      "person:  Abel, Johann had 2 references\n",
      "person:  Abel, Johann had 2 references\n",
      "person:  Abel, Johann had 1 references\n",
      "person:  Abele, Christoph had 4 references\n"
     ]
    }
   ],
   "source": [
    "res = []\n",
    "person_content_type = ContentType.objects.get(app_label=\"apis_entities\", model=\"person\")\n",
    "for m in g.members.all():\n",
    "    references = Reference.objects.filter(content_type=person_content_type, object_id=m.person.id)\n",
    "    print(\"person: \", m.person, \"had\", len(references), \"references\")\n",
    "    res += list(references)"
   ]
  },
  {
   "cell_type": "code",
   "execution_count": 29,
   "id": "cf2374e2",
   "metadata": {},
   "outputs": [
    {
     "name": "stdout",
     "output_type": "stream",
     "text": [
      "79723\n",
      "79723\n",
      "79728\n",
      "79728\n",
      "153173\n",
      "79788\n",
      "79788\n",
      "79788\n",
      "79788\n"
     ]
    }
   ],
   "source": [
    "for ref in res:\n",
    "    print(ref.object_id)"
   ]
  },
  {
   "cell_type": "code",
   "execution_count": 23,
   "id": "a1a898be",
   "metadata": {},
   "outputs": [
    {
     "data": {
      "text/plain": [
       "<QuerySet [<PersonProxyInstance 5 - proxies: <Person: Abel, Johann (79723)>>, <PersonProxyInstance 6 - proxies: <Person: Abel, Johann (79728)>>, <PersonProxyInstance 9 - proxies: <Person: Abel, Johann (153173)>>, <PersonProxyInstance 16 - proxies: <Person: Abele, Christoph (79788)>>]>"
      ]
     },
     "execution_count": 23,
     "metadata": {},
     "output_type": "execute_result"
    }
   ],
   "source": [
    "g.members.all()"
   ]
  },
  {
   "cell_type": "code",
   "execution_count": null,
   "id": "deb349d3",
   "metadata": {},
   "outputs": [],
   "source": []
  }
 ],
 "metadata": {
  "kernelspec": {
   "display_name": "Django Shell-Plus",
   "language": "python",
   "name": "django_extensions"
  },
  "language_info": {
   "codemirror_mode": {
    "name": "ipython",
    "version": 3
   },
   "file_extension": ".py",
   "mimetype": "text/x-python",
   "name": "python",
   "nbconvert_exporter": "python",
   "pygments_lexer": "ipython3",
   "version": "3.11.5"
  }
 },
 "nbformat": 4,
 "nbformat_minor": 5
}
