{
 "cells": [
  {
   "cell_type": "code",
   "execution_count": 1,
   "id": "31956136",
   "metadata": {},
   "outputs": [],
   "source": [
    "import os\n",
    "os.environ[\"DJANGO_ALLOW_ASYNC_UNSAFE\"] = \"True\""
   ]
  },
  {
   "cell_type": "code",
   "execution_count": 23,
   "id": "b55d7388",
   "metadata": {},
   "outputs": [],
   "source": [
    "test = PersonInstitutionRelation.objects.filter(name_reverse__icontains=\"war Hofstaat von\")"
   ]
  },
  {
   "cell_type": "code",
   "execution_count": 24,
   "id": "35279408",
   "metadata": {},
   "outputs": [
    {
     "data": {
      "text/plain": [
       "<QuerySet [<PersonInstitutionRelation: hatte den Hofstaat>]>"
      ]
     },
     "execution_count": 24,
     "metadata": {},
     "output_type": "execute_result"
    }
   ],
   "source": [
    "test"
   ]
  },
  {
   "cell_type": "code",
   "execution_count": 25,
   "id": "74022e3f",
   "metadata": {},
   "outputs": [
    {
     "data": {
      "text/plain": [
       "<QuerySet [<Institution: CF (Ksin.)>, <Institution: L1 (Ks.) hallo>, <Institution: EGN (Ksin.)>, <Institution: EM (Ksin.)>, <Institution: MAJ>, <Institution: MMT (Ksin.)>, <Institution: MAN (L1)>, <Institution: AW (Ehzgin.)>, <Institution: JH (EM)>, <Institution: J1 (Ehzg.)>, <Institution: AW (Ksin.)>, <Institution: K6 (Ehzg.)>, <Institution: CJ>, <Institution: LW>, <Institution: EGN (KW)>, <Institution: F4>, <Institution: JH (EGN)>, <Institution: JH (F3)>, <Institution: ME (L1)>, <Institution: Ehzg. v. Ö.>, '...(remaining elements truncated)...']>"
      ]
     },
     "execution_count": 25,
     "metadata": {},
     "output_type": "execute_result"
    }
   ],
   "source": [
    "Institution.objects.filter(kind__name=\"Hofstaat\")"
   ]
  },
  {
   "cell_type": "code",
   "execution_count": null,
   "id": "2be67314",
   "metadata": {},
   "outputs": [],
   "source": []
  }
 ],
 "metadata": {
  "kernelspec": {
   "display_name": "Django Shell-Plus",
   "language": "python",
   "name": "django_extensions"
  },
  "language_info": {
   "codemirror_mode": {
    "name": "ipython",
    "version": 3
   },
   "file_extension": ".py",
   "mimetype": "text/x-python",
   "name": "python",
   "nbconvert_exporter": "python",
   "pygments_lexer": "ipython3",
   "version": "3.11.5"
  }
 },
 "nbformat": 4,
 "nbformat_minor": 5
}
