{
 "cells": [
  {
   "cell_type": "code",
   "execution_count": 1,
   "id": "2bc36ff8-df84-435c-932c-b527cd28b0ac",
   "metadata": {},
   "outputs": [],
   "source": [
    "import os\n",
    "os.environ[\"DJANGO_ALLOW_ASYNC_UNSAFE\"] = \"True\""
   ]
  },
  {
   "cell_type": "code",
   "execution_count": 2,
   "id": "b74cbd11-dd2e-4461-9532-3dc2e58c0723",
   "metadata": {},
   "outputs": [],
   "source": [
    "from deduplication_tool.validation import get_selection_state_from_dict, SelectionPerson, SelectionMember, SelectionState"
   ]
  },
  {
   "cell_type": "code",
   "execution_count": 3,
   "id": "cd8d3a00-7eb1-40cd-a6f1-7828908a33b6",
   "metadata": {},
   "outputs": [],
   "source": [
    "test_state = {'groups': {'9': [], '18': [], '3335': [79748, 75837], '3336': [], '3337': [], '3339': [], '3341': [], '3375': [], '6632': [], '6634': [], '6758': [], '6760': [], '6771': [], '6772': []}, 'singles': []}"
   ]
  },
  {
   "cell_type": "code",
   "execution_count": 4,
   "id": "0cd1c94e-7316-4443-aa99-82eaacaa5462",
   "metadata": {},
   "outputs": [
    {
     "ename": "ValidationError",
     "evalue": "1 validation error for SelectionGroup\n  Assertion failed, Person with id=75837 is member in groups=<QuerySet [<Group: Abele, Matthias (neu) (3335)>, <Group: bughunt group group test 2 (6768)>]>. [type=assertion_error, input_value={'group_id': 3335, 'membe...ember(person_id=75837)]}, input_type=dict]\n    For further information visit https://errors.pydantic.dev/2.6/v/assertion_error",
     "output_type": "error",
     "traceback": [
      "\u001b[0;31m---------------------------------------------------------------------------\u001b[0m",
      "\u001b[0;31mValidationError\u001b[0m                           Traceback (most recent call last)",
      "Cell \u001b[0;32mIn[4], line 1\u001b[0m\n\u001b[0;32m----> 1\u001b[0m converted \u001b[38;5;241m=\u001b[39m \u001b[43mget_selection_state_from_dict\u001b[49m\u001b[43m(\u001b[49m\u001b[43mtest_state\u001b[49m\u001b[43m)\u001b[49m\n",
      "File \u001b[0;32m/workspaces/viecpro-backend-devops/deduplication_tool/validation/utils.py:6\u001b[0m, in \u001b[0;36mget_selection_state_from_dict\u001b[0;34m(data)\u001b[0m\n\u001b[1;32m      4\u001b[0m groups: \u001b[38;5;28mlist\u001b[39m[SelectionGroup] \u001b[38;5;241m=\u001b[39m []\n\u001b[1;32m      5\u001b[0m \u001b[38;5;28;01mfor\u001b[39;00m k, v \u001b[38;5;129;01min\u001b[39;00m data[\u001b[38;5;124m\"\u001b[39m\u001b[38;5;124mgroups\u001b[39m\u001b[38;5;124m\"\u001b[39m]\u001b[38;5;241m.\u001b[39mitems(): \n\u001b[0;32m----> 6\u001b[0m     groups\u001b[38;5;241m.\u001b[39mappend(\u001b[43mSelectionGroup\u001b[49m\u001b[43m(\u001b[49m\u001b[43mgroup_id\u001b[49m\u001b[38;5;241;43m=\u001b[39;49m\u001b[38;5;28;43mint\u001b[39;49m\u001b[43m(\u001b[49m\u001b[43mk\u001b[49m\u001b[43m)\u001b[49m\u001b[43m,\u001b[49m\u001b[43m \u001b[49m\u001b[43mmembers\u001b[49m\u001b[38;5;241;43m=\u001b[39;49m\u001b[43m[\u001b[49m\u001b[43mSelectionMember\u001b[49m\u001b[43m(\u001b[49m\u001b[43mperson_id\u001b[49m\u001b[38;5;241;43m=\u001b[39;49m\u001b[43mel\u001b[49m\u001b[43m)\u001b[49m\u001b[43m \u001b[49m\u001b[38;5;28;43;01mfor\u001b[39;49;00m\u001b[43m \u001b[49m\u001b[43mel\u001b[49m\u001b[43m \u001b[49m\u001b[38;5;129;43;01min\u001b[39;49;00m\u001b[43m \u001b[49m\u001b[43mv\u001b[49m\u001b[43m]\u001b[49m\u001b[43m)\u001b[49m)\n\u001b[1;32m      8\u001b[0m \u001b[38;5;28;01mreturn\u001b[39;00m SelectionState(groups\u001b[38;5;241m=\u001b[39mgroups, singles\u001b[38;5;241m=\u001b[39m[SelectionSingle(person_id\u001b[38;5;241m=\u001b[39mel) \u001b[38;5;28;01mfor\u001b[39;00m el \u001b[38;5;129;01min\u001b[39;00m data[\u001b[38;5;124m\"\u001b[39m\u001b[38;5;124msingles\u001b[39m\u001b[38;5;124m\"\u001b[39m]])\n",
      "File \u001b[0;32m~/.local/lib/python3.11/site-packages/pydantic/main.py:171\u001b[0m, in \u001b[0;36mBaseModel.__init__\u001b[0;34m(self, **data)\u001b[0m\n\u001b[1;32m    169\u001b[0m \u001b[38;5;66;03m# `__tracebackhide__` tells pytest and some other tools to omit this function from tracebacks\u001b[39;00m\n\u001b[1;32m    170\u001b[0m __tracebackhide__ \u001b[38;5;241m=\u001b[39m \u001b[38;5;28;01mTrue\u001b[39;00m\n\u001b[0;32m--> 171\u001b[0m \u001b[38;5;28;43mself\u001b[39;49m\u001b[38;5;241;43m.\u001b[39;49m\u001b[43m__pydantic_validator__\u001b[49m\u001b[38;5;241;43m.\u001b[39;49m\u001b[43mvalidate_python\u001b[49m\u001b[43m(\u001b[49m\u001b[43mdata\u001b[49m\u001b[43m,\u001b[49m\u001b[43m \u001b[49m\u001b[43mself_instance\u001b[49m\u001b[38;5;241;43m=\u001b[39;49m\u001b[38;5;28;43mself\u001b[39;49m\u001b[43m)\u001b[49m\n",
      "\u001b[0;31mValidationError\u001b[0m: 1 validation error for SelectionGroup\n  Assertion failed, Person with id=75837 is member in groups=<QuerySet [<Group: Abele, Matthias (neu) (3335)>, <Group: bughunt group group test 2 (6768)>]>. [type=assertion_error, input_value={'group_id': 3335, 'membe...ember(person_id=75837)]}, input_type=dict]\n    For further information visit https://errors.pydantic.dev/2.6/v/assertion_error"
     ]
    }
   ],
   "source": [
    "converted = get_selection_state_from_dict(test_state)"
   ]
  },
  {
   "cell_type": "code",
   "execution_count": null,
   "id": "79113cf9-c783-4717-bc26-63d9805b5097",
   "metadata": {},
   "outputs": [],
   "source": [
    "converted.model_dump()"
   ]
  },
  {
   "cell_type": "code",
   "execution_count": 6,
   "id": "4ae9c0a6-aa6c-4d4f-9f1d-359a0268517a",
   "metadata": {},
   "outputs": [
    {
     "name": "stdout",
     "output_type": "stream",
     "text": [
      "<class 'int'>\n"
     ]
    }
   ],
   "source": [
    "print(type(converted.groups[2].members[0].person_id))"
   ]
  },
  {
   "cell_type": "code",
   "execution_count": 5,
   "id": "4bb45483-6f81-4854-a146-a2064bbf3e4f",
   "metadata": {},
   "outputs": [],
   "source": [
    "test = PersonProxy.objects.first()"
   ]
  },
  {
   "cell_type": "code",
   "execution_count": 6,
   "id": "0feca381-9dda-4326-b820-ab8a12090474",
   "metadata": {},
   "outputs": [
    {
     "data": {
      "text/plain": [
       "['DoesNotExist',\n",
       " 'MultipleObjectsReturned',\n",
       " '__class__',\n",
       " '__delattr__',\n",
       " '__dict__',\n",
       " '__dir__',\n",
       " '__doc__',\n",
       " '__eq__',\n",
       " '__format__',\n",
       " '__ge__',\n",
       " '__getattribute__',\n",
       " '__getstate__',\n",
       " '__gt__',\n",
       " '__hash__',\n",
       " '__init__',\n",
       " '__init_subclass__',\n",
       " '__le__',\n",
       " '__lt__',\n",
       " '__module__',\n",
       " '__ne__',\n",
       " '__new__',\n",
       " '__reduce__',\n",
       " '__reduce_ex__',\n",
       " '__repr__',\n",
       " '__setattr__',\n",
       " '__setstate__',\n",
       " '__sizeof__',\n",
       " '__str__',\n",
       " '__subclasshook__',\n",
       " '__weakref__',\n",
       " '_check_column_name_clashes',\n",
       " '_check_constraints',\n",
       " '_check_default_pk',\n",
       " '_check_field_name_clashes',\n",
       " '_check_fields',\n",
       " '_check_id_field',\n",
       " '_check_index_together',\n",
       " '_check_indexes',\n",
       " '_check_local_fields',\n",
       " '_check_long_column_names',\n",
       " '_check_m2m_through_same_relationship',\n",
       " '_check_managers',\n",
       " '_check_model',\n",
       " '_check_model_name_db_lookup_clashes',\n",
       " '_check_ordering',\n",
       " '_check_property_name_related_field_accessor_clashes',\n",
       " '_check_single_primary_key',\n",
       " '_check_swappable',\n",
       " '_check_unique_together',\n",
       " '_do_insert',\n",
       " '_do_update',\n",
       " '_first_names',\n",
       " '_get_FIELD_display',\n",
       " '_get_expr_references',\n",
       " '_get_next_or_previous_by_FIELD',\n",
       " '_get_next_or_previous_in_order',\n",
       " '_get_pk_val',\n",
       " '_get_unique_checks',\n",
       " '_meta',\n",
       " '_names',\n",
       " '_perform_date_checks',\n",
       " '_perform_unique_checks',\n",
       " '_prepare_related_fields_for_save',\n",
       " '_save_parents',\n",
       " '_save_table',\n",
       " '_set_pk_val',\n",
       " '_state',\n",
       " 'allfirst_names',\n",
       " 'allnames',\n",
       " 'alt_first_names',\n",
       " 'alt_names',\n",
       " 'check',\n",
       " 'clean',\n",
       " 'clean_fields',\n",
       " 'date_error_message',\n",
       " 'delete',\n",
       " 'first_names_list',\n",
       " 'first_names_set',\n",
       " 'from_db',\n",
       " 'full_clean',\n",
       " 'get_deferred_fields',\n",
       " 'get_status_display',\n",
       " 'group_set',\n",
       " 'id',\n",
       " 'marked',\n",
       " 'name',\n",
       " 'name_verheiratet',\n",
       " 'names_list',\n",
       " 'names_set',\n",
       " 'note',\n",
       " 'objects',\n",
       " 'person',\n",
       " 'person_id',\n",
       " 'pk',\n",
       " 'prepare_database_save',\n",
       " 'refresh_from_db',\n",
       " 'save',\n",
       " 'save_base',\n",
       " 'serializable_value',\n",
       " 'status',\n",
       " 'status_choices',\n",
       " 'statusbuttonproxy_set',\n",
       " 'unique_error_message',\n",
       " 'validate_unique']"
      ]
     },
     "execution_count": 6,
     "metadata": {},
     "output_type": "execute_result"
    }
   ],
   "source": [
    "dir(test)"
   ]
  },
  {
   "cell_type": "code",
   "execution_count": null,
   "id": "04e6cce4-4507-4706-a49b-f59446d71554",
   "metadata": {},
   "outputs": [],
   "source": []
  }
 ],
 "metadata": {
  "kernelspec": {
   "display_name": "Django Shell-Plus",
   "language": "python",
   "name": "django_extensions"
  },
  "language_info": {
   "codemirror_mode": {
    "name": "ipython",
    "version": 3
   },
   "file_extension": ".py",
   "mimetype": "text/x-python",
   "name": "python",
   "nbconvert_exporter": "python",
   "pygments_lexer": "ipython3",
   "version": "3.11.5"
  }
 },
 "nbformat": 4,
 "nbformat_minor": 5
}
